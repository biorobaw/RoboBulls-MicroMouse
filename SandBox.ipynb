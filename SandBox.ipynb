{
 "cells": [
  {
   "cell_type": "code",
   "execution_count": 1,
   "id": "b71e11e7-6999-45c7-9c49-7b1f1c12125e",
   "metadata": {},
   "outputs": [],
   "source": [
    "import numpy as np\n",
    "import math\n",
    "import glob, os"
   ]
  },
  {
   "cell_type": "code",
   "execution_count": 29,
   "id": "67f9da5b-9b39-4066-a81f-d091b6041ce3",
   "metadata": {},
   "outputs": [],
   "source": [
    "m = np.full(256, 'Unknown')"
   ]
  },
  {
   "cell_type": "code",
   "execution_count": 55,
   "id": "8bcda184-01ca-4993-8d60-91de3f5b3c90",
   "metadata": {},
   "outputs": [],
   "source": [
    "wall_dict = {\n",
    "            \"Legend\": ['N','E','S','W'],\n",
    "            \"Unknown\": ['?','?','?','?'],\n",
    "            0 : [0,0,0,0],\n",
    "            1 : [1,0,0,0],\n",
    "            2 : [0,1,0,0],\n",
    "            4 : [0,0,1,0],\n",
    "            8 : [0,0,0,1],\n",
    "            3 : [1,1,0,0],\n",
    "            5 : [1,0,1,0],\n",
    "            9 : [1,0,0,1],\n",
    "            6 : [0,1,1,0],\n",
    "            10 : [0,1,0,1],\n",
    "            12 : [0,0,1,1],\n",
    "            7 : [1,1,1,0],\n",
    "            11 : [1,1,0,1],\n",
    "            13 : [1,0,1,1],\n",
    "            14 : [0,1,1,1],\n",
    "            15 : [1,1,1,1],\n",
    "\n",
    "        }\n",
    "\n",
    "class wall:\n",
    "    # TODO: create a non-exsistant wall\n",
    "    def __init__(self, cell_index, cell_center_x, cell_center_y, wall_index, wall_valid):\n",
    "        self.translation_x = cell_center_x\n",
    "        self.translation_y = cell_center_y\n",
    "        self.translation_z = 25\n",
    "        if wall_valid == 1:\n",
    "            self.valid = True\n",
    "        else:\n",
    "            self.valid = False\n",
    "        if wall_index == 0:\n",
    "            self.direction = 'North'\n",
    "            self.translation_y += 90\n",
    "        elif wall_index == 1:\n",
    "            self.direction = 'East'\n",
    "            self.translation_x += 90\n",
    "        elif wall_index == 2:\n",
    "            self.direction = 'South'\n",
    "            self.translation_y -= 90\n",
    "        elif wall_index == 3:\n",
    "            self.direction = 'West'\n",
    "            self.translation_x -= 90\n",
    "\n",
    "        \n",
    "class cell:\n",
    "    def __init__(self, index=0, wall_code='Unknown', size = 16):\n",
    "        \n",
    "        self.index = index\n",
    "        self.wall_code = wall_code\n",
    "        self.wall_config = wall_dict[wall_code]\n",
    "        \n",
    "        # Sets the row and column index relative to a size x size maze (default 16x16)\n",
    "        self.cell_row, self.cell_col = divmod(index,size)\n",
    "        \n",
    "        # Sets the row and column index relative of adjacent cells\n",
    "        # used to check next cell status\n",
    "        self.cell_to_north_row = self.cell_row - 1\n",
    "        self.cell_to_north_col = self.cell_col\n",
    "        self.cell_to_south_row = self.cell_row + 1\n",
    "        self.cell_to_south_col = self.cell_col\n",
    "        self.cell_to_east_row = self.cell_row\n",
    "        self.cell_to_east_col = self.cell_col + 1\n",
    "        self.cell_to_west_row = self.cell_row\n",
    "        self.cell_to_west_col = self.cell_col - 1\n",
    "        \n",
    "        # Sets the (x,y) center of the cell relative the the maze (in mm)\n",
    "        self.center_x = ((90) + (self.cell_col*180))\n",
    "        self.center_y = (((180*size) - 90) - (self.cell_row*180))\n",
    "        \n",
    "        # Creates a list of wall object\n",
    "        # TODO : fix so that no walls are dealt with\n",
    "        self.walls = []\n",
    "        for wall_indexer in range(4):\n",
    "            self.walls.append(wall(self.index, self.center_x, self.center_y, wall_indexer, self.wall_config[wall_indexer]))\n",
    "\n",
    "class maze:\n",
    "    # Construction of a Maze Object. Wall configuration can be known or unknown \n",
    "    def __init__(self, cell_codes, Size = 16):\n",
    "        self.maze = np.full((Size, Size), cell())\n",
    "        indexer = 0\n",
    "        for cell_code in cell_codes:\n",
    "            r,c = divmod(indexer,Size)\n",
    "            cell_and_walls = cell(index=indexer,wall_code=cell_code)\n",
    "            self.maze[r][c] = cell_and_walls\n",
    "            indexer+=1\n",
    "    \n",
    "    # Updates cell and wall configuration in the Maze (default assumes robot is facing North if not provided)\n",
    "    def set_cell_walls(cell_r,cell_c,sensor_readings,heading='North'):\n",
    "        # Gets original indexer\n",
    "        indexer = get_index_from_rc(cell_r,cell_c)\n",
    "        # Gets wall config\n",
    "        wall_config = sensor_readings_to_wall_config(sr=sensor_readings,heading=heading)\n",
    "        wall_code = list(wall_dict.keys())[list(wall_dict.values()).index(wall_config)]\n",
    "        # Creates new cell object and updates the maze\n",
    "        cell_and_walls = cell(index=indexer,wall_code=cell_code)\n",
    "        self.maze[r][c] = cell_and_walls\n",
    "        return 0\n",
    "    \n",
    "    # Takes a cell's row and column index and returns original indexer\n",
    "    def get_index_from_rc(cell_r,cell_c,size=16):\n",
    "        return (size*cell_r) + cell_c\n",
    "    \n",
    "    # Takes a cell's index and returns row and column index\n",
    "    def get_rc_from_index(index,size=16):\n",
    "        return divmod(index,size)\n",
    "    \n",
    "    # Takes a cell's index and returns x & y cordinate in mm \n",
    "    def get_xy_from_index(index,size=16):\n",
    "        cell_r,cell_c = get_rc_from_index(index,size)\n",
    "        return cget_xy_from_rc(cell_r,cell_c,size)\n",
    "    \n",
    "    # Takes a cell's row and column index and returns x & y cordinate in mm \n",
    "    def get_xy_from_rc(cell_r,cell_c,size=16):\n",
    "        center_x = ((90) + (c*180))\n",
    "        center_y = (((180*size) - 90) - (r*180))\n",
    "        return center_x,center_y\n",
    "    \n",
    "    # Takes the robot sensor readings and heading and converts it to a wall configuration (default assumes robot heading is North)\n",
    "    def sensor_readings_to_wall_config(sr,heading='North'):\n",
    "        wall_config = wall_dict['Legend']\n",
    "        for i in range(len(sr)):\n",
    "            if heading == 'North':\n",
    "                if sr[i] <= .05:\n",
    "                    wall_config[i] = 1\n",
    "                else:\n",
    "                    wall_config[i] = 0\n",
    "            elif heading == 'East':\n",
    "                if sr[i] <= .05:\n",
    "                    wall_config[(i+1)%4] = 1\n",
    "                else:\n",
    "                    wall_config[(i+1)%4] = 0\n",
    "            elif heading == 'South':\n",
    "                if sr[i] <= .05:\n",
    "                    wall_config[(i+2)%4] = 1\n",
    "                else:\n",
    "                    wall_config[(i+2)%4] = 0\n",
    "            elif heading == 'West':\n",
    "                if sr[i] <= .05:\n",
    "                    wall_config[(i+3)%4] = 1\n",
    "                else:\n",
    "                    wall_config[(i+3)%4] = 0\n",
    "        "
   ]
  },
  {
   "cell_type": "code",
   "execution_count": 52,
   "id": "954144c2-1b2d-4dae-bc2b-93ed943da1b4",
   "metadata": {},
   "outputs": [],
   "source": [
    "t=maze(m)"
   ]
  },
  {
   "cell_type": "code",
   "execution_count": 53,
   "id": "9adb6d3d-df8d-4a5d-876f-579d89333029",
   "metadata": {},
   "outputs": [
    {
     "name": "stdout",
     "output_type": "stream",
     "text": [
      "2250 90\n"
     ]
    }
   ],
   "source": [
    "r,c = 15,12\n",
    "print(t.maze[r][c].center_x,t.maze[r][c].center_y)"
   ]
  },
  {
   "cell_type": "code",
   "execution_count": 54,
   "id": "4bf97dab-86e9-48f1-9165-31dd3ba66ccb",
   "metadata": {},
   "outputs": [
    {
     "data": {
      "text/plain": [
       "0"
      ]
     },
     "execution_count": 54,
     "metadata": {},
     "output_type": "execute_result"
    }
   ],
   "source": [
    "list(wall_dict.keys())[list(wall_dict.values()).index([0,0,0,0])]"
   ]
  }
 ],
 "metadata": {
  "kernelspec": {
   "display_name": "Python 3 (ipykernel)",
   "language": "python",
   "name": "python3"
  },
  "language_info": {
   "codemirror_mode": {
    "name": "ipython",
    "version": 3
   },
   "file_extension": ".py",
   "mimetype": "text/x-python",
   "name": "python",
   "nbconvert_exporter": "python",
   "pygments_lexer": "ipython3",
   "version": "3.8.10"
  }
 },
 "nbformat": 4,
 "nbformat_minor": 5
}
